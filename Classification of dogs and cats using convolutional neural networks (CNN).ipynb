{
 "cells": [
  {
   "cell_type": "markdown",
   "id": "586a4ab7",
   "metadata": {
    "papermill": {
     "duration": 0.043339,
     "end_time": "2022-01-16T19:22:08.507298",
     "exception": false,
     "start_time": "2022-01-16T19:22:08.463959",
     "status": "completed"
    },
    "tags": []
   },
   "source": [
    "# Εργασία\n",
    "## Επιχειρηματική Ευφυΐα και Ανάλυση Μεγάλων Δεδομένων\n",
    "<br />\n",
    "\n",
    "## Κατηγοριοποίηση σκυλιών και γατιών με χρήση συνελικτικών νευρωνικών δικτύων(CNN)\n",
    "#### ΝΙΚΟΛΑΟΣ ΓΙΑΝΝΟΠΟΥΛΟΣ ΑΜ:18389140\n",
    "\n",
    "Στην παρούσα εργασία επιχειρείται η κατηγοριοποίηση σκυλιών και γατιών με χρήση συνελικτικών νευρωνικών δικτύων(CNN) και είσοδο εικόνων, για τον σκοπό αυτό χρησιμοποιήθηκε το dataset: https://www.kaggle.com/ashfakyeafi/cat-dog-images-for-classification, το οποίο περιέχει 25000 φωτογραφίες σκυλιών και γατιών.\n",
    "\n",
    "## Αρχικά γίνεται φόρτωση  απαραίτητων βιβλιοθηκών"
   ]
  },
  {
   "cell_type": "code",
   "execution_count": 1,
   "id": "123bee62",
   "metadata": {
    "_cell_guid": "b1076dfc-b9ad-4769-8c92-a6c4dae69d19",
    "_uuid": "8f2839f25d086af736a60e9eeb907d3b93b6e0e5",
    "execution": {
     "iopub.execute_input": "2022-01-16T19:22:08.573612Z",
     "iopub.status.busy": "2022-01-16T19:22:08.572777Z",
     "iopub.status.idle": "2022-01-16T19:22:13.832744Z",
     "shell.execute_reply": "2022-01-16T19:22:13.831814Z",
     "shell.execute_reply.started": "2022-01-16T15:19:06.272863Z"
    },
    "papermill": {
     "duration": 5.298438,
     "end_time": "2022-01-16T19:22:13.832916",
     "exception": false,
     "start_time": "2022-01-16T19:22:08.534478",
     "status": "completed"
    },
    "scrolled": true,
    "tags": []
   },
   "outputs": [],
   "source": [
    "import numpy as np\n",
    "import os\n",
    "import cv2 #image manipulation\n",
    "import random\n",
    "import matplotlib.pyplot as plt\n",
    "\n",
    "from tensorflow import keras\n",
    "from tensorflow.keras import layers\n",
    "from tensorflow.keras.layers import Conv2D, MaxPooling2D, Dropout, Flatten, Dense\n",
    "from tensorflow.keras.preprocessing.image import ImageDataGenerator\n",
    "\n",
    "from sklearn.metrics import classification_report\n",
    "from sklearn.model_selection import train_test_split"
   ]
  },
  {
   "cell_type": "markdown",
   "id": "2b0b8ee1",
   "metadata": {
    "papermill": {
     "duration": 0.022872,
     "end_time": "2022-01-16T19:22:13.880071",
     "exception": false,
     "start_time": "2022-01-16T19:22:13.857199",
     "status": "completed"
    },
    "tags": []
   },
   "source": [
    "## Φόρτωση και επεξεργασία των εικόνων"
   ]
  },
  {
   "cell_type": "code",
   "execution_count": 2,
   "id": "c919d7a4",
   "metadata": {
    "execution": {
     "iopub.execute_input": "2022-01-16T19:22:13.931257Z",
     "iopub.status.busy": "2022-01-16T19:22:13.930395Z",
     "iopub.status.idle": "2022-01-16T19:22:13.932678Z",
     "shell.execute_reply": "2022-01-16T19:22:13.932168Z",
     "shell.execute_reply.started": "2022-01-16T15:19:11.826692Z"
    },
    "papermill": {
     "duration": 0.028387,
     "end_time": "2022-01-16T19:22:13.932782",
     "exception": false,
     "start_time": "2022-01-16T19:22:13.904395",
     "status": "completed"
    },
    "scrolled": true,
    "tags": []
   },
   "outputs": [],
   "source": [
    "img_dir='../input/cat-dog-images-for-classification/cat_dog'"
   ]
  },
  {
   "cell_type": "markdown",
   "id": "5c82e19b",
   "metadata": {
    "papermill": {
     "duration": 0.022894,
     "end_time": "2022-01-16T19:22:13.977916",
     "exception": false,
     "start_time": "2022-01-16T19:22:13.955022",
     "status": "completed"
    },
    "tags": []
   },
   "source": [
    "Οι εικόνες μετατρέπονται σε array, επεξεργάζονται οι διαστάσεις τους και τοποθεντούνται σε μια λίστα μαζί με την κατηγορία τους(γάτα, σκύλος)."
   ]
  },
  {
   "cell_type": "code",
   "execution_count": 3,
   "id": "6a28b596",
   "metadata": {
    "execution": {
     "iopub.execute_input": "2022-01-16T19:22:14.030905Z",
     "iopub.status.busy": "2022-01-16T19:22:14.030389Z",
     "iopub.status.idle": "2022-01-16T19:27:01.833166Z",
     "shell.execute_reply": "2022-01-16T19:27:01.832619Z",
     "shell.execute_reply.started": "2022-01-16T15:19:11.832624Z"
    },
    "papermill": {
     "duration": 287.832547,
     "end_time": "2022-01-16T19:27:01.833307",
     "exception": false,
     "start_time": "2022-01-16T19:22:14.000760",
     "status": "completed"
    },
    "scrolled": true,
    "tags": []
   },
   "outputs": [],
   "source": [
    "IMG_SIZE = 70\n",
    "data = []\n",
    "\n",
    "for img in os.listdir(img_dir):\n",
    "    if(img.startswith('cat')):\n",
    "        label = 0\n",
    "    else:\n",
    "        label = 1\n",
    "    img_path = os.path.join(img_dir, img)# os.path.join joins images path with the current 'img' path, so it makes the path of the 'img'\n",
    "    img_arr = cv2.imread(img_path) # cv2.imread converts img to array\n",
    "    img_arr = cv2.cvtColor(img_arr, cv2.COLOR_BGR2RGB)\n",
    "    img_arr = cv2.resize(img_arr, (IMG_SIZE, IMG_SIZE))\n",
    "    img_arr = img_arr/255 # 0-255 -> 0-1\n",
    "    data.append([img_arr, label])"
   ]
  },
  {
   "cell_type": "code",
   "execution_count": 4,
   "id": "db9bcfc0",
   "metadata": {
    "execution": {
     "iopub.execute_input": "2022-01-16T19:27:01.886460Z",
     "iopub.status.busy": "2022-01-16T19:27:01.885732Z",
     "iopub.status.idle": "2022-01-16T19:27:01.889064Z",
     "shell.execute_reply": "2022-01-16T19:27:01.889510Z",
     "shell.execute_reply.started": "2022-01-16T15:21:53.506233Z"
    },
    "papermill": {
     "duration": 0.032763,
     "end_time": "2022-01-16T19:27:01.889643",
     "exception": false,
     "start_time": "2022-01-16T19:27:01.856880",
     "status": "completed"
    },
    "scrolled": true,
    "tags": []
   },
   "outputs": [
    {
     "data": {
      "text/plain": [
       "25000"
      ]
     },
     "execution_count": 4,
     "metadata": {},
     "output_type": "execute_result"
    }
   ],
   "source": [
    "len(data) # number of images"
   ]
  },
  {
   "cell_type": "code",
   "execution_count": 5,
   "id": "a9c8e6be",
   "metadata": {
    "execution": {
     "iopub.execute_input": "2022-01-16T19:27:01.961548Z",
     "iopub.status.busy": "2022-01-16T19:27:01.942468Z",
     "iopub.status.idle": "2022-01-16T19:27:01.964090Z",
     "shell.execute_reply": "2022-01-16T19:27:01.963693Z",
     "shell.execute_reply.started": "2022-01-16T15:21:53.518925Z"
    },
    "papermill": {
     "duration": 0.051733,
     "end_time": "2022-01-16T19:27:01.964230",
     "exception": false,
     "start_time": "2022-01-16T19:27:01.912497",
     "status": "completed"
    },
    "scrolled": true,
    "tags": []
   },
   "outputs": [],
   "source": [
    "random.shuffle(data) # shuffles the images"
   ]
  },
  {
   "cell_type": "code",
   "execution_count": 6,
   "id": "a5107ab6",
   "metadata": {
    "execution": {
     "iopub.execute_input": "2022-01-16T19:27:02.014368Z",
     "iopub.status.busy": "2022-01-16T19:27:02.013795Z",
     "iopub.status.idle": "2022-01-16T19:27:02.020565Z",
     "shell.execute_reply": "2022-01-16T19:27:02.020935Z",
     "shell.execute_reply.started": "2022-01-16T15:21:53.548652Z"
    },
    "papermill": {
     "duration": 0.033703,
     "end_time": "2022-01-16T19:27:02.021066",
     "exception": false,
     "start_time": "2022-01-16T19:27:01.987363",
     "status": "completed"
    },
    "scrolled": true,
    "tags": []
   },
   "outputs": [
    {
     "data": {
      "text/plain": [
       "[array([[[0.32156863, 0.20392157, 0.23529412],\n",
       "         [0.31764706, 0.2       , 0.23137255],\n",
       "         [0.20784314, 0.10980392, 0.1372549 ],\n",
       "         ...,\n",
       "         [0.39215686, 0.25098039, 0.29019608],\n",
       "         [0.41176471, 0.23529412, 0.29803922],\n",
       "         [0.41568627, 0.22745098, 0.29411765]],\n",
       " \n",
       "        [[0.34117647, 0.22352941, 0.25490196],\n",
       "         [0.32156863, 0.20392157, 0.23529412],\n",
       "         [0.22352941, 0.1254902 , 0.14901961],\n",
       "         ...,\n",
       "         [0.64705882, 0.55294118, 0.48627451],\n",
       "         [0.62745098, 0.52941176, 0.45490196],\n",
       "         [0.62745098, 0.51764706, 0.4745098 ]],\n",
       " \n",
       "        [[0.3372549 , 0.21568627, 0.25098039],\n",
       "         [0.3254902 , 0.20784314, 0.23921569],\n",
       "         [0.23137255, 0.13333333, 0.15686275],\n",
       "         ...,\n",
       "         [0.71764706, 0.69803922, 0.54509804],\n",
       "         [0.7254902 , 0.71764706, 0.53333333],\n",
       "         [0.71764706, 0.70196078, 0.56862745]],\n",
       " \n",
       "        ...,\n",
       " \n",
       "        [[0.47843137, 0.41568627, 0.3254902 ],\n",
       "         [0.68627451, 0.63137255, 0.51764706],\n",
       "         [0.64313725, 0.58431373, 0.4627451 ],\n",
       "         ...,\n",
       "         [0.12941176, 0.10980392, 0.10196078],\n",
       "         [0.14901961, 0.13333333, 0.12156863],\n",
       "         [0.17254902, 0.15686275, 0.14509804]],\n",
       " \n",
       "        [[0.49803922, 0.43137255, 0.36078431],\n",
       "         [0.70196078, 0.63921569, 0.54509804],\n",
       "         [0.63529412, 0.57254902, 0.47058824],\n",
       "         ...,\n",
       "         [0.10980392, 0.11372549, 0.09411765],\n",
       "         [0.10980392, 0.11372549, 0.09411765],\n",
       "         [0.10588235, 0.10980392, 0.09019608]],\n",
       " \n",
       "        [[0.54117647, 0.4745098 , 0.39215686],\n",
       "         [0.66666667, 0.6       , 0.49803922],\n",
       "         [0.63137255, 0.57647059, 0.4627451 ],\n",
       "         ...,\n",
       "         [0.09411765, 0.09019608, 0.08235294],\n",
       "         [0.09411765, 0.09019608, 0.08235294],\n",
       "         [0.10196078, 0.09803922, 0.09019608]]]),\n",
       " 0]"
      ]
     },
     "execution_count": 6,
     "metadata": {},
     "output_type": "execute_result"
    }
   ],
   "source": [
    "data[0]"
   ]
  },
  {
   "cell_type": "markdown",
   "id": "375630a9",
   "metadata": {
    "papermill": {
     "duration": 0.02284,
     "end_time": "2022-01-16T19:27:02.066967",
     "exception": false,
     "start_time": "2022-01-16T19:27:02.044127",
     "status": "completed"
    },
    "tags": []
   },
   "source": [
    "Τα δεδομένα χωρίζονται σε εισόδους **X**(διαστασεις, κανάλια χρώματος(RGB = 3)) και εξόδους **y**(0 = γάτα, 1 = σκύλος)"
   ]
  },
  {
   "cell_type": "code",
   "execution_count": 7,
   "id": "d68cc268",
   "metadata": {
    "execution": {
     "iopub.execute_input": "2022-01-16T19:27:02.128601Z",
     "iopub.status.busy": "2022-01-16T19:27:02.127863Z",
     "iopub.status.idle": "2022-01-16T19:27:02.129974Z",
     "shell.execute_reply": "2022-01-16T19:27:02.130363Z",
     "shell.execute_reply.started": "2022-01-16T15:21:53.563237Z"
    },
    "papermill": {
     "duration": 0.040424,
     "end_time": "2022-01-16T19:27:02.130492",
     "exception": false,
     "start_time": "2022-01-16T19:27:02.090068",
     "status": "completed"
    },
    "scrolled": true,
    "tags": []
   },
   "outputs": [],
   "source": [
    "X = []\n",
    "y = []\n",
    "\n",
    "for features, labels in data:\n",
    "    X.append(features)\n",
    "    y.append(labels)"
   ]
  },
  {
   "cell_type": "code",
   "execution_count": 8,
   "id": "ed441d1e",
   "metadata": {
    "execution": {
     "iopub.execute_input": "2022-01-16T19:27:02.181355Z",
     "iopub.status.busy": "2022-01-16T19:27:02.180708Z",
     "iopub.status.idle": "2022-01-16T19:27:02.183711Z",
     "shell.execute_reply": "2022-01-16T19:27:02.184116Z",
     "shell.execute_reply.started": "2022-01-16T15:21:53.582627Z"
    },
    "papermill": {
     "duration": 0.030819,
     "end_time": "2022-01-16T19:27:02.184247",
     "exception": false,
     "start_time": "2022-01-16T19:27:02.153428",
     "status": "completed"
    },
    "scrolled": true,
    "tags": []
   },
   "outputs": [
    {
     "data": {
      "text/plain": [
       "(70, 70, 3)"
      ]
     },
     "execution_count": 8,
     "metadata": {},
     "output_type": "execute_result"
    }
   ],
   "source": [
    "X[0].shape"
   ]
  },
  {
   "cell_type": "code",
   "execution_count": 9,
   "id": "2ad4cc93",
   "metadata": {
    "execution": {
     "iopub.execute_input": "2022-01-16T19:27:02.238532Z",
     "iopub.status.busy": "2022-01-16T19:27:02.237570Z",
     "iopub.status.idle": "2022-01-16T19:27:03.128091Z",
     "shell.execute_reply": "2022-01-16T19:27:03.127641Z",
     "shell.execute_reply.started": "2022-01-16T15:21:53.593910Z"
    },
    "papermill": {
     "duration": 0.920582,
     "end_time": "2022-01-16T19:27:03.128273",
     "exception": false,
     "start_time": "2022-01-16T19:27:02.207691",
     "status": "completed"
    },
    "scrolled": true,
    "tags": []
   },
   "outputs": [],
   "source": [
    "# converts inputs and outputs lists into arrays\n",
    "X = np.array(X)\n",
    "y = np.array(y)"
   ]
  },
  {
   "cell_type": "code",
   "execution_count": 10,
   "id": "33e714cd",
   "metadata": {
    "execution": {
     "iopub.execute_input": "2022-01-16T19:27:03.180651Z",
     "iopub.status.busy": "2022-01-16T19:27:03.179950Z",
     "iopub.status.idle": "2022-01-16T19:27:03.182539Z",
     "shell.execute_reply": "2022-01-16T19:27:03.183007Z",
     "shell.execute_reply.started": "2022-01-16T15:21:54.585532Z"
    },
    "papermill": {
     "duration": 0.030537,
     "end_time": "2022-01-16T19:27:03.183167",
     "exception": false,
     "start_time": "2022-01-16T19:27:03.152630",
     "status": "completed"
    },
    "tags": []
   },
   "outputs": [
    {
     "data": {
      "text/plain": [
       "(25000, 70, 70, 3)"
      ]
     },
     "execution_count": 10,
     "metadata": {},
     "output_type": "execute_result"
    }
   ],
   "source": [
    "X.shape"
   ]
  },
  {
   "cell_type": "code",
   "execution_count": 11,
   "id": "540d9429",
   "metadata": {
    "execution": {
     "iopub.execute_input": "2022-01-16T19:27:03.235465Z",
     "iopub.status.busy": "2022-01-16T19:27:03.234668Z",
     "iopub.status.idle": "2022-01-16T19:27:03.238137Z",
     "shell.execute_reply": "2022-01-16T19:27:03.237711Z",
     "shell.execute_reply.started": "2022-01-16T15:21:54.594344Z"
    },
    "papermill": {
     "duration": 0.0314,
     "end_time": "2022-01-16T19:27:03.238258",
     "exception": false,
     "start_time": "2022-01-16T19:27:03.206858",
     "status": "completed"
    },
    "tags": []
   },
   "outputs": [
    {
     "data": {
      "text/plain": [
       "(25000,)"
      ]
     },
     "execution_count": 11,
     "metadata": {},
     "output_type": "execute_result"
    }
   ],
   "source": [
    "y.shape"
   ]
  },
  {
   "cell_type": "markdown",
   "id": "bee7e889",
   "metadata": {
    "papermill": {
     "duration": 0.02377,
     "end_time": "2022-01-16T19:27:03.285854",
     "exception": false,
     "start_time": "2022-01-16T19:27:03.262084",
     "status": "completed"
    },
    "tags": []
   },
   "source": [
    "Οι είσοδοι και οι έξοδοι χωρίζονται σε εκπαίδευσης ***train*** και δοκιμής ***test***"
   ]
  },
  {
   "cell_type": "code",
   "execution_count": 12,
   "id": "eb6e2828",
   "metadata": {
    "execution": {
     "iopub.execute_input": "2022-01-16T19:27:03.337887Z",
     "iopub.status.busy": "2022-01-16T19:27:03.337388Z",
     "iopub.status.idle": "2022-01-16T19:27:04.167047Z",
     "shell.execute_reply": "2022-01-16T19:27:04.166155Z",
     "shell.execute_reply.started": "2022-01-16T15:21:54.604941Z"
    },
    "papermill": {
     "duration": 0.85716,
     "end_time": "2022-01-16T19:27:04.167208",
     "exception": false,
     "start_time": "2022-01-16T19:27:03.310048",
     "status": "completed"
    },
    "scrolled": true,
    "tags": []
   },
   "outputs": [],
   "source": [
    "X_train, X_test, y_train, y_test = train_test_split(X, y, test_size = 0.2, random_state=54)"
   ]
  },
  {
   "cell_type": "code",
   "execution_count": 13,
   "id": "989f0c1d",
   "metadata": {
    "execution": {
     "iopub.execute_input": "2022-01-16T19:27:04.221343Z",
     "iopub.status.busy": "2022-01-16T19:27:04.220790Z",
     "iopub.status.idle": "2022-01-16T19:27:04.226005Z",
     "shell.execute_reply": "2022-01-16T19:27:04.225583Z",
     "shell.execute_reply.started": "2022-01-16T15:21:55.529364Z"
    },
    "papermill": {
     "duration": 0.033015,
     "end_time": "2022-01-16T19:27:04.226136",
     "exception": false,
     "start_time": "2022-01-16T19:27:04.193121",
     "status": "completed"
    },
    "scrolled": true,
    "tags": []
   },
   "outputs": [
    {
     "data": {
      "text/plain": [
       "(20000, 70, 70, 3)"
      ]
     },
     "execution_count": 13,
     "metadata": {},
     "output_type": "execute_result"
    }
   ],
   "source": [
    "X_train.shape"
   ]
  },
  {
   "cell_type": "code",
   "execution_count": 14,
   "id": "0ccfe7d3",
   "metadata": {
    "execution": {
     "iopub.execute_input": "2022-01-16T19:27:04.281306Z",
     "iopub.status.busy": "2022-01-16T19:27:04.280602Z",
     "iopub.status.idle": "2022-01-16T19:27:04.517076Z",
     "shell.execute_reply": "2022-01-16T19:27:04.516038Z",
     "shell.execute_reply.started": "2022-01-16T15:21:55.546997Z"
    },
    "papermill": {
     "duration": 0.266846,
     "end_time": "2022-01-16T19:27:04.517238",
     "exception": false,
     "start_time": "2022-01-16T19:27:04.250392",
     "status": "completed"
    },
    "scrolled": true,
    "tags": []
   },
   "outputs": [
    {
     "data": {
      "text/plain": [
       "<matplotlib.image.AxesImage at 0x7f0f60ed2cd0>"
      ]
     },
     "execution_count": 14,
     "metadata": {},
     "output_type": "execute_result"
    },
    {
     "data": {
      "image/png": "[encoded data removed]",
      "text/plain": [
       "<Figure size 432x288 with 1 Axes>"
      ]
     },
     "metadata": {
      "needs_background": "light"
     },
     "output_type": "display_data"
    }
   ],
   "source": [
    "plt.title(y_train[7])\n",
    "plt.imshow(X_train[7])"
   ]
  },
  {
   "cell_type": "code",
   "execution_count": 15,
   "id": "e428bed3",
   "metadata": {
    "execution": {
     "iopub.execute_input": "2022-01-16T19:27:04.605753Z",
     "iopub.status.busy": "2022-01-16T19:27:04.604179Z",
     "iopub.status.idle": "2022-01-16T19:27:04.606397Z",
     "shell.execute_reply": "2022-01-16T19:27:04.606829Z",
     "shell.execute_reply.started": "2022-01-16T15:21:55.798778Z"
    },
    "papermill": {
     "duration": 0.063125,
     "end_time": "2022-01-16T19:27:04.606984",
     "exception": false,
     "start_time": "2022-01-16T19:27:04.543859",
     "status": "completed"
    },
    "tags": []
   },
   "outputs": [],
   "source": [
    "#To clear memory(RAM)\n",
    "data = None\n",
    "X = None\n",
    "y = None"
   ]
  },
  {
   "cell_type": "markdown",
   "id": "920bfe40",
   "metadata": {
    "papermill": {
     "duration": 0.026975,
     "end_time": "2022-01-16T19:27:04.661406",
     "exception": false,
     "start_time": "2022-01-16T19:27:04.634431",
     "status": "completed"
    },
    "tags": []
   },
   "source": [
    "Δημιουργούμε ένα συνελικτικό μοντέλο νευρωνικού δικτύου με την χρήση της Tensorflow, keras. Αρχίζουμε με ένα layer(επίπεδο) με 32 συνελικτικά φίλτρα (**Conv2D**) 3χ3 το καθένα και συνάρτηση **relu**, προστίθεται ένα layer **MaxPooling** που βοηθάει στην επιλογή των καλύτερων χαρακτηριστικών τις εικόνας. Στη συνέχεια επαναλαμβάνεται η διαδικασία με άλλα 32 συνελικτικά φίλτρα και με 64 συνελικτικά φίλτρα τα οποία επιλέχθηκαν πειραματικά. Τέλος τα layers ισοπεδώνονται(**flatten**) και γίνονται μονοδιάστατα, παιρνούν από ένα πλήρως συνδεδεμένο **Dense** layer 64 νευρώνων, προστίθεται ένα **Dropout** layer το οποίο αποσύρει τυχαία νευρώνες για την αποφυγή overfitting και τέλος χωρίζονται σε 2 πλήρως συνδεδεμένους νευρώνες(**Dense**) ώσες και οι έξοδοι με συνάρτηση softmax για να υπολογιστούν οι πιθανότητες εξόδου."
   ]
  },
  {
   "cell_type": "code",
   "execution_count": 16,
   "id": "6b433c21",
   "metadata": {
    "execution": {
     "iopub.execute_input": "2022-01-16T19:27:04.722268Z",
     "iopub.status.busy": "2022-01-16T19:27:04.721466Z",
     "iopub.status.idle": "2022-01-16T19:27:06.651729Z",
     "shell.execute_reply": "2022-01-16T19:27:06.651244Z",
     "shell.execute_reply.started": "2022-01-16T15:22:44.649027Z"
    },
    "papermill": {
     "duration": 1.963969,
     "end_time": "2022-01-16T19:27:06.651860",
     "exception": false,
     "start_time": "2022-01-16T19:27:04.687891",
     "status": "completed"
    },
    "scrolled": true,
    "tags": []
   },
   "outputs": [
    {
     "name": "stderr",
     "output_type": "stream",
     "text": [
      "2022-01-16 19:27:04.792498: I tensorflow/stream_executor/cuda/cuda_gpu_executor.cc:937] successful NUMA node read from SysFS had negative value (-1), but there must be at least one NUMA node, so returning NUMA node zero\n",
      "2022-01-16 19:27:04.878928: I tensorflow/stream_executor/cuda/cuda_gpu_executor.cc:937] successful NUMA node read from SysFS had negative value (-1), but there must be at least one NUMA node, so returning NUMA node zero\n",
      "2022-01-16 19:27:04.879674: I tensorflow/stream_executor/cuda/cuda_gpu_executor.cc:937] successful NUMA node read from SysFS had negative value (-1), but there must be at least one NUMA node, so returning NUMA node zero\n",
      "2022-01-16 19:27:04.881492: I tensorflow/core/platform/cpu_feature_guard.cc:142] This TensorFlow binary is optimized with oneAPI Deep Neural Network Library (oneDNN) to use the following CPU instructions in performance-critical operations:  AVX2 AVX512F FMA\n",
      "To enable them in other operations, rebuild TensorFlow with the appropriate compiler flags.\n",
      "2022-01-16 19:27:04.882647: I tensorflow/stream_executor/cuda/cuda_gpu_executor.cc:937] successful NUMA node read from SysFS had negative value (-1), but there must be at least one NUMA node, so returning NUMA node zero\n",
      "2022-01-16 19:27:04.883561: I tensorflow/stream_executor/cuda/cuda_gpu_executor.cc:937] successful NUMA node read from SysFS had negative value (-1), but there must be at least one NUMA node, so returning NUMA node zero\n",
      "2022-01-16 19:27:04.884426: I tensorflow/stream_executor/cuda/cuda_gpu_executor.cc:937] successful NUMA node read from SysFS had negative value (-1), but there must be at least one NUMA node, so returning NUMA node zero\n",
      "2022-01-16 19:27:06.478887: I tensorflow/stream_executor/cuda/cuda_gpu_executor.cc:937] successful NUMA node read from SysFS had negative value (-1), but there must be at least one NUMA node, so returning NUMA node zero\n",
      "2022-01-16 19:27:06.479704: I tensorflow/stream_executor/cuda/cuda_gpu_executor.cc:937] successful NUMA node read from SysFS had negative value (-1), but there must be at least one NUMA node, so returning NUMA node zero\n",
      "2022-01-16 19:27:06.480390: I tensorflow/stream_executor/cuda/cuda_gpu_executor.cc:937] successful NUMA node read from SysFS had negative value (-1), but there must be at least one NUMA node, so returning NUMA node zero\n",
      "2022-01-16 19:27:06.480983: I tensorflow/core/common_runtime/gpu/gpu_device.cc:1510] Created device /job:localhost/replica:0/task:0/device:GPU:0 with 15403 MB memory:  -> device: 0, name: Tesla P100-PCIE-16GB, pci bus id: 0000:00:04.0, compute capability: 6.0\n"
     ]
    }
   ],
   "source": [
    "model = keras.Sequential()\n",
    "\n",
    "model.add(Conv2D(32, kernel_size=(3, 3), activation='relu',input_shape = (IMG_SIZE, IMG_SIZE, 3)))\n",
    "\n",
    "model.add(MaxPooling2D(pool_size=(2, 2)))\n",
    "\n",
    "model.add(Conv2D(32, (3, 3), activation='relu'))\n",
    "model.add(MaxPooling2D(pool_size=(2, 2)))\n",
    "\n",
    "model.add(Conv2D(64, (3, 3), activation='relu'))\n",
    "model.add(MaxPooling2D(pool_size=(2, 2)))\n",
    "\n",
    "model.add(Flatten())\n",
    "\n",
    "model.add(Dense(64, activation='relu'))\n",
    "model.add(Dropout(0.5))\n",
    "\n",
    "model.add(Dense(2, activation='softmax'))"
   ]
  },
  {
   "cell_type": "code",
   "execution_count": 17,
   "id": "7fb91561",
   "metadata": {
    "execution": {
     "iopub.execute_input": "2022-01-16T19:27:06.710609Z",
     "iopub.status.busy": "2022-01-16T19:27:06.709523Z",
     "iopub.status.idle": "2022-01-16T19:27:06.716420Z",
     "shell.execute_reply": "2022-01-16T19:27:06.716948Z",
     "shell.execute_reply.started": "2022-01-16T15:22:45.420172Z"
    },
    "papermill": {
     "duration": 0.039269,
     "end_time": "2022-01-16T19:27:06.717142",
     "exception": false,
     "start_time": "2022-01-16T19:27:06.677873",
     "status": "completed"
    },
    "scrolled": true,
    "tags": []
   },
   "outputs": [
    {
     "name": "stdout",
     "output_type": "stream",
     "text": [
      "Model: \"sequential\"\n",
      "_________________________________________________________________\n",
      "Layer (type)                 Output Shape              Param #   \n",
      "=================================================================\n",
      "conv2d (Conv2D)              (None, 68, 68, 32)        896       \n",
      "_________________________________________________________________\n",
      "max_pooling2d (MaxPooling2D) (None, 34, 34, 32)        0         \n",
      "_________________________________________________________________\n",
      "conv2d_1 (Conv2D)            (None, 32, 32, 32)        9248      \n",
      "_________________________________________________________________\n",
      "max_pooling2d_1 (MaxPooling2 (None, 16, 16, 32)        0         \n",
      "_________________________________________________________________\n",
      "conv2d_2 (Conv2D)            (None, 14, 14, 64)        18496     \n",
      "_________________________________________________________________\n",
      "max_pooling2d_2 (MaxPooling2 (None, 7, 7, 64)          0         \n",
      "_________________________________________________________________\n",
      "flatten (Flatten)            (None, 3136)              0         \n",
      "_________________________________________________________________\n",
      "dense (Dense)                (None, 64)                200768    \n",
      "_________________________________________________________________\n",
      "dropout (Dropout)            (None, 64)                0         \n",
      "_________________________________________________________________\n",
      "dense_1 (Dense)              (None, 2)                 130       \n",
      "=================================================================\n",
      "Total params: 229,538\n",
      "Trainable params: 229,538\n",
      "Non-trainable params: 0\n",
      "_________________________________________________________________\n"
     ]
    }
   ],
   "source": [
    "model.summary() # neural network architecture summary"
   ]
  },
  {
   "cell_type": "markdown",
   "id": "a6b86aa0",
   "metadata": {
    "papermill": {
     "duration": 0.026291,
     "end_time": "2022-01-16T19:27:06.769938",
     "exception": false,
     "start_time": "2022-01-16T19:27:06.743647",
     "status": "completed"
    },
    "tags": []
   },
   "source": [
    "Το μοντέλο \"μεταγλωτίζεται\"(**compile**) όπου προστίθεται συνάρτηση απώλειας(sparse categorical crossentropy) η οποία μετρά την ακρίβεια του μοντέλου κατά τη διάρκεια της εκπαίδευσης για δείγματα που ανείκουν μόνο σε μία κλάση(σκύλος, γάτα). Ακόμα προστίθεται βελτιστοποιητής(**adam**) o οποίος βρίσκει τα καλύτερα βάρη του νευρωνικού δικτύου ελαχιστοποιώντας της συνάρτηση απώλειας, και τέλος προστίθενται \"μετρικές\"(**accuracy**) όπου μετριέται η ακρίβεια των προβλέψεων του δικτύου."
   ]
  },
  {
   "cell_type": "code",
   "execution_count": 18,
   "id": "0646f3e7",
   "metadata": {
    "execution": {
     "iopub.execute_input": "2022-01-16T19:27:06.830649Z",
     "iopub.status.busy": "2022-01-16T19:27:06.827031Z",
     "iopub.status.idle": "2022-01-16T19:27:06.836795Z",
     "shell.execute_reply": "2022-01-16T19:27:06.836301Z",
     "shell.execute_reply.started": "2022-01-16T15:33:40.997862Z"
    },
    "papermill": {
     "duration": 0.040748,
     "end_time": "2022-01-16T19:27:06.836924",
     "exception": false,
     "start_time": "2022-01-16T19:27:06.796176",
     "status": "completed"
    },
    "scrolled": true,
    "tags": []
   },
   "outputs": [],
   "source": [
    "model.compile(loss=\"sparse_categorical_crossentropy\",\n",
    "              optimizer=\"adam\", \n",
    "              metrics=[\"accuracy\"])"
   ]
  },
  {
   "cell_type": "markdown",
   "id": "7c373be5",
   "metadata": {
    "papermill": {
     "duration": 0.026938,
     "end_time": "2022-01-16T19:27:06.891025",
     "exception": false,
     "start_time": "2022-01-16T19:27:06.864087",
     "status": "completed"
    },
    "tags": []
   },
   "source": [
    "### Στη συνέχεια το μοντέλο εκπαιδεύεται "
   ]
  },
  {
   "cell_type": "code",
   "execution_count": 19,
   "id": "b7e72118",
   "metadata": {
    "execution": {
     "iopub.execute_input": "2022-01-16T19:27:06.948068Z",
     "iopub.status.busy": "2022-01-16T19:27:06.947308Z",
     "iopub.status.idle": "2022-01-16T19:28:31.939497Z",
     "shell.execute_reply": "2022-01-16T19:28:31.938968Z",
     "shell.execute_reply.started": "2022-01-16T15:33:54.613013Z"
    },
    "papermill": {
     "duration": 85.02232,
     "end_time": "2022-01-16T19:28:31.939647",
     "exception": false,
     "start_time": "2022-01-16T19:27:06.917327",
     "status": "completed"
    },
    "scrolled": true,
    "tags": []
   },
   "outputs": [
    {
     "name": "stderr",
     "output_type": "stream",
     "text": [
      "2022-01-16 19:27:07.465074: W tensorflow/core/framework/cpu_allocator_impl.cc:80] Allocation of 1176000000 exceeds 10% of free system memory.\n",
      "2022-01-16 19:27:08.709811: W tensorflow/core/framework/cpu_allocator_impl.cc:80] Allocation of 1176000000 exceeds 10% of free system memory.\n",
      "2022-01-16 19:27:09.553641: I tensorflow/compiler/mlir/mlir_graph_optimization_pass.cc:185] None of the MLIR Optimization Passes are enabled (registered 2)\n"
     ]
    },
    {
     "name": "stdout",
     "output_type": "stream",
     "text": [
      "Epoch 1/30\n"
     ]
    },
    {
     "name": "stderr",
     "output_type": "stream",
     "text": [
      "2022-01-16 19:27:10.827186: I tensorflow/stream_executor/cuda/cuda_dnn.cc:369] Loaded cuDNN version 8005\n"
     ]
    },
    {
     "name": "stdout",
     "output_type": "stream",
     "text": [
      "312/312 [==============================] - 10s 10ms/step - loss: 0.6743 - accuracy: 0.5751 - val_loss: 0.6316 - val_accuracy: 0.6476\n",
      "Epoch 2/30\n",
      "312/312 [==============================] - 2s 8ms/step - loss: 0.5797 - accuracy: 0.6978 - val_loss: 0.5240 - val_accuracy: 0.7422\n",
      "Epoch 3/30\n",
      "312/312 [==============================] - 3s 8ms/step - loss: 0.4987 - accuracy: 0.7628 - val_loss: 0.4679 - val_accuracy: 0.7754\n",
      "Epoch 4/30\n",
      "312/312 [==============================] - 2s 7ms/step - loss: 0.4428 - accuracy: 0.7995 - val_loss: 0.4132 - val_accuracy: 0.8132\n",
      "Epoch 5/30\n",
      "312/312 [==============================] - 2s 7ms/step - loss: 0.4069 - accuracy: 0.8192 - val_loss: 0.4006 - val_accuracy: 0.8128\n",
      "Epoch 6/30\n",
      "312/312 [==============================] - 2s 8ms/step - loss: 0.3705 - accuracy: 0.8369 - val_loss: 0.4382 - val_accuracy: 0.8062\n",
      "Epoch 7/30\n",
      "312/312 [==============================] - 2s 7ms/step - loss: 0.3378 - accuracy: 0.8571 - val_loss: 0.3682 - val_accuracy: 0.8404\n",
      "Epoch 8/30\n",
      "312/312 [==============================] - 2s 7ms/step - loss: 0.3128 - accuracy: 0.8686 - val_loss: 0.3651 - val_accuracy: 0.8382\n",
      "Epoch 9/30\n",
      "312/312 [==============================] - 2s 8ms/step - loss: 0.2863 - accuracy: 0.8795 - val_loss: 0.3670 - val_accuracy: 0.8392\n",
      "Epoch 10/30\n",
      "312/312 [==============================] - 2s 8ms/step - loss: 0.2566 - accuracy: 0.8936 - val_loss: 0.3640 - val_accuracy: 0.8460\n",
      "Epoch 11/30\n",
      "312/312 [==============================] - 2s 7ms/step - loss: 0.2329 - accuracy: 0.9074 - val_loss: 0.3970 - val_accuracy: 0.8474\n",
      "Epoch 12/30\n",
      "312/312 [==============================] - 2s 7ms/step - loss: 0.2072 - accuracy: 0.9188 - val_loss: 0.4074 - val_accuracy: 0.8442\n",
      "Epoch 13/30\n",
      "312/312 [==============================] - 2s 7ms/step - loss: 0.1946 - accuracy: 0.9226 - val_loss: 0.3873 - val_accuracy: 0.8512\n",
      "Epoch 14/30\n",
      "312/312 [==============================] - 2s 7ms/step - loss: 0.1650 - accuracy: 0.9361 - val_loss: 0.4323 - val_accuracy: 0.8492\n",
      "Epoch 15/30\n",
      "312/312 [==============================] - 3s 8ms/step - loss: 0.1553 - accuracy: 0.9395 - val_loss: 0.4546 - val_accuracy: 0.8472\n",
      "Epoch 16/30\n",
      "312/312 [==============================] - 3s 8ms/step - loss: 0.1347 - accuracy: 0.9482 - val_loss: 0.4691 - val_accuracy: 0.8496\n",
      "Epoch 17/30\n",
      "312/312 [==============================] - 2s 8ms/step - loss: 0.1211 - accuracy: 0.9538 - val_loss: 0.4810 - val_accuracy: 0.8482\n",
      "Epoch 18/30\n",
      "312/312 [==============================] - 2s 8ms/step - loss: 0.1131 - accuracy: 0.9577 - val_loss: 0.5736 - val_accuracy: 0.8478\n",
      "Epoch 19/30\n",
      "312/312 [==============================] - 2s 8ms/step - loss: 0.1102 - accuracy: 0.9564 - val_loss: 0.5621 - val_accuracy: 0.8406\n",
      "Epoch 20/30\n",
      "312/312 [==============================] - 2s 8ms/step - loss: 0.1003 - accuracy: 0.9618 - val_loss: 0.6042 - val_accuracy: 0.8414\n",
      "Epoch 21/30\n",
      "312/312 [==============================] - 2s 7ms/step - loss: 0.0979 - accuracy: 0.9617 - val_loss: 0.6437 - val_accuracy: 0.8476\n",
      "Epoch 22/30\n",
      "312/312 [==============================] - 2s 8ms/step - loss: 0.0910 - accuracy: 0.9660 - val_loss: 0.6161 - val_accuracy: 0.8474\n",
      "Epoch 23/30\n",
      "312/312 [==============================] - 2s 7ms/step - loss: 0.0827 - accuracy: 0.9703 - val_loss: 0.7032 - val_accuracy: 0.8522\n",
      "Epoch 24/30\n",
      "312/312 [==============================] - 2s 8ms/step - loss: 0.0825 - accuracy: 0.9682 - val_loss: 0.7089 - val_accuracy: 0.8540\n",
      "Epoch 25/30\n",
      "312/312 [==============================] - 2s 7ms/step - loss: 0.0760 - accuracy: 0.9719 - val_loss: 0.7377 - val_accuracy: 0.8382\n",
      "Epoch 26/30\n",
      "312/312 [==============================] - 2s 7ms/step - loss: 0.0747 - accuracy: 0.9712 - val_loss: 0.6828 - val_accuracy: 0.8446\n",
      "Epoch 27/30\n",
      "312/312 [==============================] - 2s 7ms/step - loss: 0.0736 - accuracy: 0.9716 - val_loss: 0.7079 - val_accuracy: 0.8444\n",
      "Epoch 28/30\n",
      "312/312 [==============================] - 2s 7ms/step - loss: 0.0639 - accuracy: 0.9762 - val_loss: 0.8205 - val_accuracy: 0.8386\n",
      "Epoch 29/30\n",
      "312/312 [==============================] - 2s 8ms/step - loss: 0.0625 - accuracy: 0.9774 - val_loss: 0.7656 - val_accuracy: 0.8400\n",
      "Epoch 30/30\n",
      "312/312 [==============================] - 3s 8ms/step - loss: 0.0662 - accuracy: 0.9758 - val_loss: 0.8344 - val_accuracy: 0.8386\n"
     ]
    }
   ],
   "source": [
    "history= model.fit(X_train, y_train,\n",
    "                             batch_size = 64,\n",
    "                             validation_data=(X_test,y_test),\n",
    "                             steps_per_epoch = len(X_train) // 64,\n",
    "                             epochs=30,\n",
    "                             verbose=1)"
   ]
  },
  {
   "cell_type": "markdown",
   "id": "c0802ba5",
   "metadata": {
    "papermill": {
     "duration": 0.350257,
     "end_time": "2022-01-16T19:28:32.632534",
     "exception": false,
     "start_time": "2022-01-16T19:28:32.282277",
     "status": "completed"
    },
    "tags": []
   },
   "source": [
    "Από την εκπαίδευση του μοντέλου παρατηρείται ότι από την 11η επόχη(**epoch**) σταματάει να μαθαίνει το μοντέλο για πραγματικά δεδομένα καθώς το **Val_loss** αυξάνεται και το **Val_accuracy** μένει στάσιμο, τα οποία αφορούν δείγματα τα οποία δεν έχει ξαναδεί το μοντέλο.\n",
    "\n",
    "Μια λύση σε αυτό είναι να του δώσουμε παραπάνω δειγμάτα.\n",
    "Για την εξοικονόμηση χώρου γίνεται **augmentation** των ήδη υπάρχων δειγμάτων, όπου οι εικόνες τροποποιούνται με διάφορες δοθείσες τεχνικες(**ImageDataGenerator**).\n",
    "\n",
    "Στη συνέχεια ξανά εκπαιδεύεται με τις τροποποιημένες εικόνες."
   ]
  },
  {
   "cell_type": "code",
   "execution_count": 20,
   "id": "e4feab69",
   "metadata": {
    "execution": {
     "iopub.execute_input": "2022-01-16T19:28:33.344133Z",
     "iopub.status.busy": "2022-01-16T19:28:33.343215Z",
     "iopub.status.idle": "2022-01-16T19:28:33.345036Z",
     "shell.execute_reply": "2022-01-16T19:28:33.345482Z",
     "shell.execute_reply.started": "2022-01-16T15:43:18.590733Z"
    },
    "papermill": {
     "duration": 0.361203,
     "end_time": "2022-01-16T19:28:33.345617",
     "exception": false,
     "start_time": "2022-01-16T19:28:32.984414",
     "status": "completed"
    },
    "scrolled": true,
    "tags": []
   },
   "outputs": [],
   "source": [
    "dataAugmentation = ImageDataGenerator(rotation_range = 30, zoom_range = 0.20, fill_mode = \"nearest\", shear_range = 0.20, horizontal_flip = True, width_shift_range = 0.1, height_shift_range = 0.1)"
   ]
  },
  {
   "cell_type": "code",
   "execution_count": 21,
   "id": "03fa8e77",
   "metadata": {
    "execution": {
     "iopub.execute_input": "2022-01-16T19:28:34.040357Z",
     "iopub.status.busy": "2022-01-16T19:28:34.039221Z",
     "iopub.status.idle": "2022-01-16T19:47:17.912693Z",
     "shell.execute_reply": "2022-01-16T19:47:17.913722Z",
     "shell.execute_reply.started": "2022-01-16T15:43:48.243832Z"
    },
    "papermill": {
     "duration": 1124.226546,
     "end_time": "2022-01-16T19:47:17.913899",
     "exception": false,
     "start_time": "2022-01-16T19:28:33.687353",
     "status": "completed"
    },
    "scrolled": true,
    "tags": []
   },
   "outputs": [
    {
     "name": "stdout",
     "output_type": "stream",
     "text": [
      "Epoch 1/30\n",
      "312/312 [==============================] - 33s 103ms/step - loss: 0.5345 - accuracy: 0.7558 - val_loss: 0.3738 - val_accuracy: 0.8422\n",
      "Epoch 2/30\n",
      "312/312 [==============================] - 32s 102ms/step - loss: 0.4460 - accuracy: 0.7927 - val_loss: 0.3621 - val_accuracy: 0.8356\n",
      "Epoch 3/30\n",
      "312/312 [==============================] - 32s 103ms/step - loss: 0.4270 - accuracy: 0.8077 - val_loss: 0.3562 - val_accuracy: 0.8328\n",
      "Epoch 4/30\n",
      "312/312 [==============================] - 32s 102ms/step - loss: 0.4128 - accuracy: 0.8077 - val_loss: 0.3509 - val_accuracy: 0.8366\n",
      "Epoch 5/30\n",
      "312/312 [==============================] - 32s 102ms/step - loss: 0.4010 - accuracy: 0.8170 - val_loss: 0.3555 - val_accuracy: 0.8354\n",
      "Epoch 6/30\n",
      "312/312 [==============================] - 32s 102ms/step - loss: 0.3917 - accuracy: 0.8256 - val_loss: 0.3343 - val_accuracy: 0.8520\n",
      "Epoch 7/30\n",
      "312/312 [==============================] - 32s 103ms/step - loss: 0.3808 - accuracy: 0.8302 - val_loss: 0.3181 - val_accuracy: 0.8650\n",
      "Epoch 8/30\n",
      "312/312 [==============================] - 32s 103ms/step - loss: 0.3831 - accuracy: 0.8278 - val_loss: 0.3878 - val_accuracy: 0.8166\n",
      "Epoch 9/30\n",
      "312/312 [==============================] - 33s 106ms/step - loss: 0.3770 - accuracy: 0.8340 - val_loss: 0.3345 - val_accuracy: 0.8520\n",
      "Epoch 10/30\n",
      "312/312 [==============================] - 32s 104ms/step - loss: 0.3598 - accuracy: 0.8411 - val_loss: 0.3155 - val_accuracy: 0.8682\n",
      "Epoch 11/30\n",
      "312/312 [==============================] - 33s 105ms/step - loss: 0.3602 - accuracy: 0.8430 - val_loss: 0.3144 - val_accuracy: 0.8648\n",
      "Epoch 12/30\n",
      "312/312 [==============================] - 33s 104ms/step - loss: 0.3561 - accuracy: 0.8471 - val_loss: 0.3112 - val_accuracy: 0.8632\n",
      "Epoch 13/30\n",
      "312/312 [==============================] - 33s 105ms/step - loss: 0.3498 - accuracy: 0.8475 - val_loss: 0.3057 - val_accuracy: 0.8682\n",
      "Epoch 14/30\n",
      "312/312 [==============================] - 33s 106ms/step - loss: 0.3455 - accuracy: 0.8482 - val_loss: 0.3075 - val_accuracy: 0.8674\n",
      "Epoch 15/30\n",
      "312/312 [==============================] - 33s 106ms/step - loss: 0.3495 - accuracy: 0.8466 - val_loss: 0.3255 - val_accuracy: 0.8526\n",
      "Epoch 16/30\n",
      "312/312 [==============================] - 33s 105ms/step - loss: 0.3408 - accuracy: 0.8526 - val_loss: 0.3402 - val_accuracy: 0.8506\n",
      "Epoch 17/30\n",
      "312/312 [==============================] - 33s 106ms/step - loss: 0.3414 - accuracy: 0.8518 - val_loss: 0.3570 - val_accuracy: 0.8368\n",
      "Epoch 18/30\n",
      "312/312 [==============================] - 33s 106ms/step - loss: 0.3376 - accuracy: 0.8526 - val_loss: 0.3101 - val_accuracy: 0.8678\n",
      "Epoch 19/30\n",
      "312/312 [==============================] - 33s 105ms/step - loss: 0.3304 - accuracy: 0.8559 - val_loss: 0.2952 - val_accuracy: 0.8652\n",
      "Epoch 20/30\n",
      "312/312 [==============================] - 33s 107ms/step - loss: 0.3312 - accuracy: 0.8579 - val_loss: 0.3008 - val_accuracy: 0.8688\n",
      "Epoch 21/30\n",
      "312/312 [==============================] - 33s 105ms/step - loss: 0.3213 - accuracy: 0.8598 - val_loss: 0.2886 - val_accuracy: 0.8748\n",
      "Epoch 22/30\n",
      "312/312 [==============================] - 33s 106ms/step - loss: 0.3308 - accuracy: 0.8560 - val_loss: 0.2878 - val_accuracy: 0.8780\n",
      "Epoch 23/30\n",
      "312/312 [==============================] - 33s 104ms/step - loss: 0.3189 - accuracy: 0.8608 - val_loss: 0.2802 - val_accuracy: 0.8830\n",
      "Epoch 24/30\n",
      "312/312 [==============================] - 33s 106ms/step - loss: 0.3121 - accuracy: 0.8635 - val_loss: 0.2691 - val_accuracy: 0.8892\n",
      "Epoch 25/30\n",
      "312/312 [==============================] - 33s 107ms/step - loss: 0.3123 - accuracy: 0.8662 - val_loss: 0.2686 - val_accuracy: 0.8820\n",
      "Epoch 26/30\n",
      "312/312 [==============================] - 33s 106ms/step - loss: 0.3160 - accuracy: 0.8663 - val_loss: 0.2741 - val_accuracy: 0.8894\n",
      "Epoch 27/30\n",
      "312/312 [==============================] - 34s 108ms/step - loss: 0.3117 - accuracy: 0.8665 - val_loss: 0.2672 - val_accuracy: 0.8854\n",
      "Epoch 28/30\n",
      "312/312 [==============================] - 33s 105ms/step - loss: 0.3079 - accuracy: 0.8667 - val_loss: 0.3180 - val_accuracy: 0.8590\n",
      "Epoch 29/30\n",
      "312/312 [==============================] - 33s 106ms/step - loss: 0.3122 - accuracy: 0.8684 - val_loss: 0.2557 - val_accuracy: 0.8904\n",
      "Epoch 30/30\n",
      "312/312 [==============================] - 34s 110ms/step - loss: 0.2997 - accuracy: 0.8704 - val_loss: 0.2871 - val_accuracy: 0.8758\n"
     ]
    }
   ],
   "source": [
    "history2= model.fit(dataAugmentation.flow(X_train, y_train, batch_size = 64),\n",
    "                             validation_data=(X_test,y_test),\n",
    "                             steps_per_epoch = len(X_train) // 64,\n",
    "                             epochs=30,\n",
    "                             verbose=1)"
   ]
  },
  {
   "cell_type": "code",
   "execution_count": 22,
   "id": "de0ff6b3",
   "metadata": {
    "execution": {
     "iopub.execute_input": "2022-01-16T19:47:23.591743Z",
     "iopub.status.busy": "2022-01-16T19:47:23.585967Z",
     "iopub.status.idle": "2022-01-16T19:47:24.205013Z",
     "shell.execute_reply": "2022-01-16T19:47:24.204237Z",
     "shell.execute_reply.started": "2022-01-16T16:20:06.619664Z"
    },
    "papermill": {
     "duration": 3.447096,
     "end_time": "2022-01-16T19:47:24.205165",
     "exception": false,
     "start_time": "2022-01-16T19:47:20.758069",
     "status": "completed"
    },
    "tags": []
   },
   "outputs": [
    {
     "data": {
      "image/png": "[encoded data removed]",
      "text/plain": [
       "<Figure size 720x720 with 4 Axes>"
      ]
     },
     "metadata": {
      "needs_background": "light"
     },
     "output_type": "display_data"
    }
   ],
   "source": [
    "fig, axs = plt.subplots(2, 2,figsize=(10,10))\n",
    "\n",
    "axs[0, 0].plot(history.history['loss'])\n",
    "axs[0, 0].plot(history.history['val_loss'])\n",
    "axs[0, 0].legend(['training', 'validation'])\n",
    "axs[0, 0].set_title('Loss without augmentation')\n",
    "\n",
    "axs[0, 1].plot(history.history['accuracy'])\n",
    "axs[0, 1].plot(history.history['val_accuracy'])\n",
    "axs[0, 1].legend(['training', 'validation'])\n",
    "axs[0, 1].set_title('Accuracy without augmentation')\n",
    "\n",
    "axs[1, 0].plot(history2.history['loss'])\n",
    "axs[1, 0].plot(history2.history['val_loss'])\n",
    "axs[1, 0].legend(['training', 'validation'])\n",
    "axs[1, 0].set_title('Loss with augmentation')\n",
    "\n",
    "axs[1, 1].plot(history2.history['accuracy'])\n",
    "axs[1, 1].plot(history2.history['val_accuracy'])\n",
    "axs[1, 1].legend(['training', 'validation'])\n",
    "axs[1, 1].set_title('Accuracy with augmentation')\n",
    "\n",
    "for ax in axs.flat:\n",
    "    ax.set(xlabel='Epoch')"
   ]
  },
  {
   "cell_type": "markdown",
   "id": "b1a9c0f0",
   "metadata": {
    "papermill": {
     "duration": 3.224847,
     "end_time": "2022-01-16T19:47:30.336090",
     "exception": false,
     "start_time": "2022-01-16T19:47:27.111243",
     "status": "completed"
    },
    "tags": []
   },
   "source": [
    "Στα παραπάνω γραφήματα μπορούμε να δούμε ότι με χωρίς το **augmentation** των δεδομένω το μοντέλο παθαίνει **overfitting**, ενώ με **augmentation** συνεχίζει και γίνεται καλύτερο."
   ]
  },
  {
   "cell_type": "markdown",
   "id": "2a68bd4e",
   "metadata": {
    "papermill": {
     "duration": 2.776781,
     "end_time": "2022-01-16T19:47:35.960292",
     "exception": false,
     "start_time": "2022-01-16T19:47:33.183511",
     "status": "completed"
    },
    "tags": []
   },
   "source": [
    "## Πρόβλεψη κατηγοριοποίησης\n",
    "Tο μοντέλο προβλέπει όλα τα δοκιμαστικά δεδομένα εκ των οποίων έιναι 2438 γάτες και 2562 σκύλοι, με τα οποία δεν έχει εκπαιδευτεί και έχει ακρίβεια 88%."
   ]
  },
  {
   "cell_type": "code",
   "execution_count": 23,
   "id": "5c427074",
   "metadata": {
    "execution": {
     "iopub.execute_input": "2022-01-16T19:47:41.893666Z",
     "iopub.status.busy": "2022-01-16T19:47:41.892564Z",
     "iopub.status.idle": "2022-01-16T19:47:42.842961Z",
     "shell.execute_reply": "2022-01-16T19:47:42.843518Z",
     "shell.execute_reply.started": "2022-01-16T16:21:00.270342Z"
    },
    "papermill": {
     "duration": 4.080652,
     "end_time": "2022-01-16T19:47:42.843678",
     "exception": false,
     "start_time": "2022-01-16T19:47:38.763026",
     "status": "completed"
    },
    "tags": []
   },
   "outputs": [],
   "source": [
    "y_pred = model.predict(X_test)"
   ]
  },
  {
   "cell_type": "code",
   "execution_count": 24,
   "id": "2c2ad1b6",
   "metadata": {
    "execution": {
     "iopub.execute_input": "2022-01-16T19:47:48.521564Z",
     "iopub.status.busy": "2022-01-16T19:47:48.520768Z",
     "iopub.status.idle": "2022-01-16T19:47:48.550287Z",
     "shell.execute_reply": "2022-01-16T19:47:48.550856Z",
     "shell.execute_reply.started": "2022-01-16T19:08:30.197202Z"
    },
    "papermill": {
     "duration": 2.87709,
     "end_time": "2022-01-16T19:47:48.551051",
     "exception": false,
     "start_time": "2022-01-16T19:47:45.673961",
     "status": "completed"
    },
    "scrolled": true,
    "tags": []
   },
   "outputs": [
    {
     "name": "stdout",
     "output_type": "stream",
     "text": [
      "              precision    recall  f1-score   support\n",
      "\n",
      "         Cat       0.93      0.81      0.87      2513\n",
      "         Dog       0.83      0.94      0.88      2487\n",
      "\n",
      "    accuracy                           0.88      5000\n",
      "   macro avg       0.88      0.88      0.88      5000\n",
      "weighted avg       0.88      0.88      0.88      5000\n",
      "\n"
     ]
    }
   ],
   "source": [
    "br_pred = [np.argmax(i) for i in y_pred]\n",
    "print(classification_report(y_test, br_pred, target_names=['Cat','Dog']))"
   ]
  },
  {
   "cell_type": "code",
   "execution_count": 25,
   "id": "bef3b7d9",
   "metadata": {
    "execution": {
     "iopub.execute_input": "2022-01-16T19:47:54.935678Z",
     "iopub.status.busy": "2022-01-16T19:47:54.934374Z",
     "iopub.status.idle": "2022-01-16T19:47:54.938203Z",
     "shell.execute_reply": "2022-01-16T19:47:54.937742Z",
     "shell.execute_reply.started": "2022-01-16T19:07:50.114713Z"
    },
    "papermill": {
     "duration": 2.81145,
     "end_time": "2022-01-16T19:47:54.938322",
     "exception": false,
     "start_time": "2022-01-16T19:47:52.126872",
     "status": "completed"
    },
    "tags": []
   },
   "outputs": [
    {
     "data": {
      "text/plain": [
       "array([0.04241086, 0.9575891 ], dtype=float32)"
      ]
     },
     "execution_count": 25,
     "metadata": {},
     "output_type": "execute_result"
    }
   ],
   "source": [
    "y_pred[2]"
   ]
  },
  {
   "cell_type": "code",
   "execution_count": 26,
   "id": "d903afd3",
   "metadata": {
    "execution": {
     "iopub.execute_input": "2022-01-16T19:48:00.649005Z",
     "iopub.status.busy": "2022-01-16T19:48:00.648198Z",
     "iopub.status.idle": "2022-01-16T19:48:00.841901Z",
     "shell.execute_reply": "2022-01-16T19:48:00.842370Z",
     "shell.execute_reply.started": "2022-01-16T16:41:58.112614Z"
    },
    "papermill": {
     "duration": 3.052238,
     "end_time": "2022-01-16T19:48:00.842543",
     "exception": false,
     "start_time": "2022-01-16T19:47:57.790305",
     "status": "completed"
    },
    "tags": []
   },
   "outputs": [
    {
     "name": "stdout",
     "output_type": "stream",
     "text": [
      "Prediction:  1\n"
     ]
    },
    {
     "data": {
      "text/plain": [
       "<matplotlib.image.AxesImage at 0x7f0f4c375310>"
      ]
     },
     "execution_count": 26,
     "metadata": {},
     "output_type": "execute_result"
    },
    {
     "data": {
      "image/png": "[encoded data removed]",
      "text/plain": [
       "<Figure size 432x288 with 1 Axes>"
      ]
     },
     "metadata": {
      "needs_background": "light"
     },
     "output_type": "display_data"
    }
   ],
   "source": [
    "print('Prediction: ', np.argmax(y_pred[2])) # argmax returns the indices of the maximum values\n",
    "plt.title('Cat' if y_test[2] == 0 else 'Dog')\n",
    "plt.imshow(X_test[2])"
   ]
  }
 ],
 "metadata": {
  "kernelspec": {
   "display_name": "Python 3",
   "language": "python",
   "name": "python3"
  },
  "language_info": {
   "codemirror_mode": {
    "name": "ipython",
    "version": 3
   },
   "file_extension": ".py",
   "mimetype": "text/x-python",
   "name": "python",
   "nbconvert_exporter": "python",
   "pygments_lexer": "ipython3",
   "version": "3.7.12"
  },
  "papermill": {
   "default_parameters": {},
   "duration": 1567.184612,
   "end_time": "2022-01-16T19:48:07.468036",
   "environment_variables": {},
   "exception": null,
   "input_path": "__notebook__.ipynb",
   "output_path": "__notebook__.ipynb",
   "parameters": {},
   "start_time": "2022-01-16T19:22:00.283424",
   "version": "2.3.3"
  }
 },
 "nbformat": 4,
 "nbformat_minor": 5
}
